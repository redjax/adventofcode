{
 "cells": [
  {
   "cell_type": "markdown",
   "id": "ae942780-fb0b-4216-8556-3f957eda5247",
   "metadata": {},
   "source": [
    "# Advent of Code Day 2"
   ]
  },
  {
   "cell_type": "code",
   "execution_count": 1,
   "id": "d5733c6e-d31a-4b59-a655-0874d24e96ea",
   "metadata": {},
   "outputs": [],
   "source": [
    "## Set notebook to auto reload updated modules\n",
    "from __future__ import annotations\n",
    "\n",
    "%load_ext autoreload\n",
    "%autoreload 2"
   ]
  },
  {
   "cell_type": "code",
   "execution_count": 2,
   "id": "d8570d88-283d-4c0f-9824-7996aa95fe7f",
   "metadata": {
    "tags": []
   },
   "outputs": [
    {
     "data": {
      "text/plain": [
       "Level(name='ERROR', no=40, color='<red><bold>', icon='❌')"
      ]
     },
     "execution_count": 2,
     "metadata": {},
     "output_type": "execute_result"
    }
   ],
   "source": [
    "from loguru import logger as log\n",
    "\n",
    "log.level(\"ERROR\")"
   ]
  },
  {
   "cell_type": "code",
   "execution_count": 3,
   "id": "224376b1-309c-4be1-95b0-adfc70fb8e73",
   "metadata": {},
   "outputs": [],
   "source": [
    "import json\n",
    "from pathlib import Path\n",
    "\n",
    "import pandas as pd"
   ]
  },
  {
   "cell_type": "code",
   "execution_count": 4,
   "id": "13a74b31-f7ab-4d94-ba2a-3a3518fc8350",
   "metadata": {},
   "outputs": [],
   "source": [
    "from aoc_mod.utils import file_utils, nb_utils"
   ]
  },
  {
   "cell_type": "code",
   "execution_count": 5,
   "id": "2351bb3a-b00e-4adb-9acb-b62a1ec7049a",
   "metadata": {},
   "outputs": [],
   "source": [
    "def eval_num_pair(num_pair: list[int]) -> bool:\n",
    "    \"\"\"Evaluate if num_pair passes all conditions for safety.\n",
    "    \n",
    "    Conditions:\n",
    "    \n",
    "    - The list must contain at least 1 number.\n",
    "    - If more than 1 number:\n",
    "        - All numbers must be either ascending or descending.\n",
    "        - Adjacent numbers must differ by a minimum of 1 and a maximum of 3.\n",
    "\n",
    "    Params:\n",
    "        num_pair (list[int]): A list of numbers to evaluate.\n",
    "\n",
    "    Returns:\n",
    "        bool: `True` if all conditions are met, `False` otherwise.\n",
    "    \"\"\"\n",
    "    log.debug(f\"Type of num_pair: {type(num_pair)}\")\n",
    "    ## Check if there's at least 1 number in the list\n",
    "    if len(num_pair) == 0:\n",
    "        return False\n",
    "\n",
    "    ## If only one number, return True (no adjacent levels to compare)\n",
    "    if len(num_pair) == 1:\n",
    "        return True\n",
    "\n",
    "    ## Determine if the sequence is ascending or descending\n",
    "    ascending = all(b > a for a, b in zip(num_pair, num_pair[1:]))\n",
    "    descending = all(a > b for a, b in zip(num_pair, num_pair[1:]))\n",
    "\n",
    "    ## Ensure the sequence is either fully ascending or fully descending\n",
    "    if not (ascending or descending):\n",
    "        return False\n",
    "\n",
    "    ## Check that adjacent numbers differ by at least 1 and at most 3\n",
    "    valid_differences = all(1 <= abs(b - a) <= 3 for a, b in zip(num_pair, num_pair[1:]))\n",
    "\n",
    "    ## If all conditions are met, return True\n",
    "    return valid_differences"
   ]
  },
  {
   "cell_type": "code",
   "execution_count": 6,
   "id": "3b91711f-c9e0-44f1-ad54-1117b7830e94",
   "metadata": {
    "tags": []
   },
   "outputs": [],
   "source": [
    "def re_eval_num_pair(num_pair: list[int]) -> bool:\n",
    "    \"\"\"Evaluate if safe_pair passes all conditions for safety on re-evaluation.\n",
    "    \n",
    "    Conditions:\n",
    "        \n",
    "    - On re-evaluation, removing any 1 number from the list will not alter the safe state.\n",
    "    \n",
    "    Params:\n",
    "      safe_pair (list[int]): A list of integers that was deemed `Safe` on the initial evaluation.\n",
    "      \n",
    "    Returns:\n",
    "        (bool): `True` if safe_pair passes re-evaluation, otherwise `False`.\n",
    "    \n",
    "    \"\"\"\n",
    "    ## Ensure input list is safe\n",
    "    initial_status = \"Safe\" if eval_num_pair(num_pair) else \"Unsafe\"\n",
    "    \n",
    "    if initial_status == \"Unsafe\":\n",
    "        return False\n",
    "    \n",
    "    ## Iterate through each index in the list\n",
    "    for i in range(len(num_pair)):\n",
    "        ## Create a new sub-list by removing the current index\n",
    "        sub_list = num_pair[:i] + num_pair[i+1:]\n",
    "        \n",
    "        ## Re-evaluate the sub-list\n",
    "        sub_list_status = eval_num_pair(sub_list)\n",
    "\n",
    "        ## If the status of the sub-list differs from the initial, return False\n",
    "        if sub_list_status != initial_status:\n",
    "            return False\n",
    "\n",
    "    return True\n"
   ]
  },
  {
   "cell_type": "code",
   "execution_count": 7,
   "id": "963e7bba-b086-449e-8ecf-c2ac63f01fc1",
   "metadata": {
    "tags": []
   },
   "outputs": [
    {
     "data": {
      "text/plain": [
       "True"
      ]
     },
     "execution_count": 7,
     "metadata": {},
     "output_type": "execute_result"
    }
   ],
   "source": [
    "inputs_file = Path(\"./inputs\")\n",
    "inputs_file.exists()"
   ]
  },
  {
   "cell_type": "code",
   "execution_count": 8,
   "id": "5ce60733-a520-46a7-8e7f-6b795e74149e",
   "metadata": {},
   "outputs": [
    {
     "data": {
      "text/plain": [
       "list"
      ]
     },
     "execution_count": 8,
     "metadata": {},
     "output_type": "execute_result"
    }
   ],
   "source": [
    "inputs = file_utils.load_inputs(\"./inputs\")\n",
    "type(inputs)"
   ]
  },
  {
   "cell_type": "code",
   "execution_count": 9,
   "id": "9e3b7d80-d016-48b8-991a-b21d6dbf9679",
   "metadata": {
    "tags": []
   },
   "outputs": [],
   "source": [
    "num_pairs: list[list[int]] = []"
   ]
  },
  {
   "cell_type": "code",
   "execution_count": 10,
   "id": "67e18788-0f6c-4d69-ba83-b80761dc1da3",
   "metadata": {},
   "outputs": [
    {
     "data": {
      "text/plain": [
       "'Loaded [1000] number pairs from inputs file'"
      ]
     },
     "metadata": {},
     "output_type": "display_data"
    }
   ],
   "source": [
    "for line in inputs:\n",
    "    nums = [int(i) for i in line.strip().split(\" \")]\n",
    "    \n",
    "    num_pairs.append(nums)\n",
    "    \n",
    "display(f\"Loaded [{len(num_pairs)}] number pairs from inputs file\")"
   ]
  },
  {
   "cell_type": "markdown",
   "id": "60778cf7-9001-469f-8995-378f6ae21e8d",
   "metadata": {},
   "source": [
    "## Part 1"
   ]
  },
  {
   "cell_type": "code",
   "execution_count": 11,
   "id": "bec545cc-b771-4912-b7fd-d0c143dd871a",
   "metadata": {},
   "outputs": [],
   "source": [
    "evaluated_num_pairs = []"
   ]
  },
  {
   "cell_type": "code",
   "execution_count": 12,
   "id": "2b2ecd8e-9d8f-4568-a605-2f9ba6097127",
   "metadata": {
    "tags": []
   },
   "outputs": [],
   "source": [
    "for num_pair in num_pairs:\n",
    "    # display(f\"Pair ({type(num_pair)}[{type(num_pair[0])}]: {num_pair}\")\n",
    "    value = \"Safe\" if eval_num_pair(num_pair) else \"Unsafe\"\n",
    "    evaluated_pair = {\"report_safety\": value, \"numbers\": num_pair}\n",
    "    # display(evaluated_pair)\n",
    "\n",
    "    evaluated_num_pairs.append(evaluated_pair)"
   ]
  },
  {
   "cell_type": "code",
   "execution_count": 13,
   "id": "00fd0ebc-93fe-45ac-8762-506a4ca0b11f",
   "metadata": {
    "tags": []
   },
   "outputs": [
    {
     "data": {
      "text/plain": [
       "'Found [483] safe pair(s).'"
      ]
     },
     "metadata": {},
     "output_type": "display_data"
    },
    {
     "data": {
      "text/plain": [
       "'First 10 safe pairs:'"
      ]
     },
     "metadata": {},
     "output_type": "display_data"
    },
    {
     "data": {
      "text/plain": [
       "{'report_safety': 'Safe', 'numbers': [33, 34, 35, 36, 39, 42, 45, 48]}"
      ]
     },
     "metadata": {},
     "output_type": "display_data"
    },
    {
     "data": {
      "text/plain": [
       "{'report_safety': 'Safe', 'numbers': [69, 70, 72, 73, 75, 78, 80]}"
      ]
     },
     "metadata": {},
     "output_type": "display_data"
    },
    {
     "data": {
      "text/plain": [
       "{'report_safety': 'Safe', 'numbers': [53, 50, 49, 48, 47]}"
      ]
     },
     "metadata": {},
     "output_type": "display_data"
    },
    {
     "data": {
      "text/plain": [
       "{'report_safety': 'Safe', 'numbers': [10, 9, 6, 5, 4]}"
      ]
     },
     "metadata": {},
     "output_type": "display_data"
    },
    {
     "data": {
      "text/plain": [
       "{'report_safety': 'Safe', 'numbers': [70, 72, 75, 78, 80, 83, 84]}"
      ]
     },
     "metadata": {},
     "output_type": "display_data"
    },
    {
     "data": {
      "text/plain": [
       "{'report_safety': 'Safe', 'numbers': [32, 35, 37, 39, 41]}"
      ]
     },
     "metadata": {},
     "output_type": "display_data"
    },
    {
     "data": {
      "text/plain": [
       "{'report_safety': 'Safe', 'numbers': [79, 76, 73, 71, 70, 69, 66]}"
      ]
     },
     "metadata": {},
     "output_type": "display_data"
    },
    {
     "data": {
      "text/plain": [
       "{'report_safety': 'Safe', 'numbers': [72, 70, 67, 66, 64, 63, 61]}"
      ]
     },
     "metadata": {},
     "output_type": "display_data"
    },
    {
     "data": {
      "text/plain": [
       "{'report_safety': 'Safe', 'numbers': [33, 34, 36, 38, 40, 42, 45, 46]}"
      ]
     },
     "metadata": {},
     "output_type": "display_data"
    },
    {
     "data": {
      "text/plain": [
       "{'report_safety': 'Safe', 'numbers': [75, 72, 70, 67, 64]}"
      ]
     },
     "metadata": {},
     "output_type": "display_data"
    }
   ],
   "source": [
    "safe_pairs = [p for p in evaluated_num_pairs if p[\"report_safety\"] == \"Safe\"]\n",
    "display(f\"Found [{len(safe_pairs)}] safe pair(s).\")\n",
    "\n",
    "if len(safe_pairs) >= 0:\n",
    "    display(f\"First 10 safe pairs:\")\n",
    "    for p in safe_pairs[:10]:\n",
    "        display(p)"
   ]
  },
  {
   "cell_type": "code",
   "execution_count": 14,
   "id": "2bc6b863-8565-4d69-884f-4f2c5a972508",
   "metadata": {
    "tags": []
   },
   "outputs": [],
   "source": [
    "part1_solution = {\"safe_reports_count\": len(safe_pairs) or 0, \"safe_reports\": safe_pairs, \"inputs\": {\"number_pairs\": num_pairs, \"evaluated_number_pairs\": evaluated_num_pairs}}"
   ]
  },
  {
   "cell_type": "markdown",
   "id": "f0b19957-ec8e-49ec-a915-e76b0a6bd1f8",
   "metadata": {},
   "source": [
    "## Part 2"
   ]
  },
  {
   "cell_type": "code",
   "execution_count": 15,
   "id": "5a251f75-78a9-4a9e-ae49-c227887977b5",
   "metadata": {
    "tags": []
   },
   "outputs": [],
   "source": [
    "evaluated_safe_pairs = []"
   ]
  },
  {
   "cell_type": "code",
   "execution_count": 16,
   "id": "621cba19-bedc-4497-944c-acb3cbe15f82",
   "metadata": {
    "tags": []
   },
   "outputs": [
    {
     "data": {
      "text/plain": [
       "'Found [1000] safe pair(s) on re-evaluation.'"
      ]
     },
     "metadata": {},
     "output_type": "display_data"
    }
   ],
   "source": [
    "# Process each pair in the raw list\n",
    "for num_pair in num_pairs:\n",
    "    # Re-evaluate the safety status of the pair\n",
    "    re_evaluation_value = \"Safe\" if re_eval_num_pair(num_pair) else \"Unsafe\"\n",
    "    \n",
    "    # Create a dictionary for the evaluated pair\n",
    "    re_evaluated_safe_pair = {\"report_safety\": re_evaluation_value, \"numbers\": num_pair}\n",
    "    \n",
    "    # Append only unique pairs to the evaluated list\n",
    "    if re_evaluated_safe_pair not in evaluated_safe_pairs:\n",
    "        evaluated_safe_pairs.append(re_evaluated_safe_pair)\n",
    "\n",
    "display(f\"Found [{len(evaluated_safe_pairs)}] safe pair(s) on re-evaluation.\")"
   ]
  },
  {
   "cell_type": "code",
   "execution_count": null,
   "id": "f427e85c-af04-45f9-9b60-ea6592700fe3",
   "metadata": {},
   "outputs": [],
   "source": []
  }
 ],
 "metadata": {
  "kernelspec": {
   "display_name": "Python 3 (ipykernel)",
   "language": "python",
   "name": "python3"
  },
  "language_info": {
   "codemirror_mode": {
    "name": "ipython",
    "version": 3
   },
   "file_extension": ".py",
   "mimetype": "text/x-python",
   "name": "python",
   "nbconvert_exporter": "python",
   "pygments_lexer": "ipython3",
   "version": "3.11.10"
  }
 },
 "nbformat": 4,
 "nbformat_minor": 5
}
