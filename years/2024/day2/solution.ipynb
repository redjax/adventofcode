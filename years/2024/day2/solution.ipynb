{
 "cells": [
  {
   "cell_type": "markdown",
   "id": "ae942780-fb0b-4216-8556-3f957eda5247",
   "metadata": {},
   "source": [
    "# Advent of Code Day 2"
   ]
  },
  {
   "cell_type": "code",
   "execution_count": 1,
   "id": "d5733c6e-d31a-4b59-a655-0874d24e96ea",
   "metadata": {},
   "outputs": [],
   "source": [
    "## Set notebook to auto reload updated modules\n",
    "from __future__ import annotations\n",
    "\n",
    "%load_ext autoreload\n",
    "%autoreload 2"
   ]
  },
  {
   "cell_type": "code",
   "execution_count": 2,
   "id": "d8570d88-283d-4c0f-9824-7996aa95fe7f",
   "metadata": {
    "tags": []
   },
   "outputs": [
    {
     "data": {
      "text/plain": [
       "Level(name='ERROR', no=40, color='<red><bold>', icon='❌')"
      ]
     },
     "execution_count": 2,
     "metadata": {},
     "output_type": "execute_result"
    }
   ],
   "source": [
    "from loguru import logger as log\n",
    "\n",
    "log.level(\"ERROR\")"
   ]
  },
  {
   "cell_type": "code",
   "execution_count": 3,
   "id": "224376b1-309c-4be1-95b0-adfc70fb8e73",
   "metadata": {},
   "outputs": [],
   "source": [
    "import json\n",
    "from pathlib import Path\n",
    "\n",
    "import pandas as pd"
   ]
  },
  {
   "cell_type": "code",
   "execution_count": 4,
   "id": "13a74b31-f7ab-4d94-ba2a-3a3518fc8350",
   "metadata": {},
   "outputs": [],
   "source": [
    "from aoc_mod.utils import file_utils, nb_utils"
   ]
  },
  {
   "cell_type": "code",
   "execution_count": 5,
   "id": "55a7b477-0b78-4a49-87d9-73376d103160",
   "metadata": {
    "tags": []
   },
   "outputs": [],
   "source": [
    "def eval_num_pair(num_pair: list[int]) -> bool:\n",
    "    \"\"\"Evaluate if num_pair input passes conditions.\n",
    "    \n",
    "       Description:\n",
    "        \n",
    "       A report only counts as safe if both of the following are true:\n",
    "       \n",
    "       - The levels are either all increasing or all decreasing.\n",
    "       - Any two adjacent levels differ by at least one and at most three.\n",
    "           \n",
    "       Returns:\n",
    "           (bool): `True` if all conditions are met.\n",
    "           (bool): `False` when some conditions are not met.\n",
    "\n",
    "    \"\"\"\n",
    "    if len(num_pair) < 2:\n",
    "        log.error(ValueError(f\"Input list must have more than 1 number.\"))\n",
    "        return False\n",
    "\n",
    "    all_increasing = all(\n",
    "        1 <= b - a <= 3 for a, b in zip(num_pair, num_pair[1:])\n",
    "    )\n",
    "    all_decreasing = all(\n",
    "        1 <= a - b <= 3 for a, b in zip(num_pair, num_pair[1:])\n",
    "    )\n",
    "    \n",
    "    if all_increasing or all_decreasing:\n",
    "        return True\n",
    "    else:\n",
    "        return False\n"
   ]
  },
  {
   "cell_type": "code",
   "execution_count": 6,
   "id": "11c499a0-9c29-47a8-97a0-354d423af8b9",
   "metadata": {},
   "outputs": [
    {
     "data": {
      "text/html": [
       "<div>\n",
       "<style scoped>\n",
       "    .dataframe tbody tr th:only-of-type {\n",
       "        vertical-align: middle;\n",
       "    }\n",
       "\n",
       "    .dataframe tbody tr th {\n",
       "        vertical-align: top;\n",
       "    }\n",
       "\n",
       "    .dataframe thead th {\n",
       "        text-align: right;\n",
       "    }\n",
       "</style>\n",
       "<table border=\"1\" class=\"dataframe\">\n",
       "  <thead>\n",
       "    <tr style=\"text-align: right;\">\n",
       "      <th></th>\n",
       "      <th>name</th>\n",
       "      <th>age</th>\n",
       "    </tr>\n",
       "  </thead>\n",
       "  <tbody>\n",
       "    <tr>\n",
       "      <th>0</th>\n",
       "      <td>Test</td>\n",
       "      <td>23</td>\n",
       "    </tr>\n",
       "    <tr>\n",
       "      <th>1</th>\n",
       "      <td>Test2</td>\n",
       "      <td>35</td>\n",
       "    </tr>\n",
       "  </tbody>\n",
       "</table>\n",
       "</div>"
      ],
      "text/plain": [
       "    name  age\n",
       "0   Test   23\n",
       "1  Test2   35"
      ]
     },
     "execution_count": 6,
     "metadata": {},
     "output_type": "execute_result"
    }
   ],
   "source": [
    "df = pd.DataFrame([{\"name\": \"Test\", \"age\": 23}, {\"name\": \"Test2\", \"age\": 35}])\n",
    "df"
   ]
  },
  {
   "cell_type": "code",
   "execution_count": 7,
   "id": "110a80d3-60fe-463d-b549-f28d160e5fe8",
   "metadata": {
    "tags": []
   },
   "outputs": [
    {
     "data": {
      "text/html": [
       "<style type=\"text/css\">\n",
       "</style>\n",
       "<table id=\"T_51e14\">\n",
       "  <thead>\n",
       "    <tr>\n",
       "      <th id=\"T_51e14_level0_col0\" class=\"col_heading level0 col0\" >name</th>\n",
       "      <th id=\"T_51e14_level0_col1\" class=\"col_heading level0 col1\" >age</th>\n",
       "    </tr>\n",
       "  </thead>\n",
       "  <tbody>\n",
       "    <tr>\n",
       "      <td id=\"T_51e14_row0_col0\" class=\"data row0 col0\" >Test</td>\n",
       "      <td id=\"T_51e14_row0_col1\" class=\"data row0 col1\" >23</td>\n",
       "    </tr>\n",
       "    <tr>\n",
       "      <td id=\"T_51e14_row1_col0\" class=\"data row1 col0\" >Test2</td>\n",
       "      <td id=\"T_51e14_row1_col1\" class=\"data row1 col1\" >35</td>\n",
       "    </tr>\n",
       "  </tbody>\n",
       "</table>\n"
      ],
      "text/plain": [
       "<pandas.io.formats.style.Styler at 0x7fbeb811a790>"
      ]
     },
     "metadata": {},
     "output_type": "display_data"
    }
   ],
   "source": [
    "nb_utils.display_df_without_index(df=df)"
   ]
  },
  {
   "cell_type": "code",
   "execution_count": 8,
   "id": "963e7bba-b086-449e-8ecf-c2ac63f01fc1",
   "metadata": {
    "tags": []
   },
   "outputs": [
    {
     "data": {
      "text/plain": [
       "True"
      ]
     },
     "execution_count": 8,
     "metadata": {},
     "output_type": "execute_result"
    }
   ],
   "source": [
    "inputs_file = Path(\"./inputs\")\n",
    "inputs_file.exists()"
   ]
  },
  {
   "cell_type": "code",
   "execution_count": 9,
   "id": "5ce60733-a520-46a7-8e7f-6b795e74149e",
   "metadata": {},
   "outputs": [
    {
     "data": {
      "text/plain": [
       "list"
      ]
     },
     "execution_count": 9,
     "metadata": {},
     "output_type": "execute_result"
    }
   ],
   "source": [
    "inputs = file_utils.load_inputs(\"./inputs\")\n",
    "type(inputs)"
   ]
  },
  {
   "cell_type": "code",
   "execution_count": 10,
   "id": "9e3b7d80-d016-48b8-991a-b21d6dbf9679",
   "metadata": {
    "tags": []
   },
   "outputs": [],
   "source": [
    "num_pairs: list[list[int]] = []"
   ]
  },
  {
   "cell_type": "code",
   "execution_count": 11,
   "id": "67e18788-0f6c-4d69-ba83-b80761dc1da3",
   "metadata": {},
   "outputs": [
    {
     "data": {
      "text/plain": [
       "'Loaded [1000] number pairs from inputs file'"
      ]
     },
     "metadata": {},
     "output_type": "display_data"
    }
   ],
   "source": [
    "for line in inputs:\n",
    "    nums = [int(i) for i in line.strip().split(\" \")]\n",
    "    \n",
    "    num_pairs.append(nums)\n",
    "    \n",
    "display(f\"Loaded [{len(num_pairs)}] number pairs from inputs file\")"
   ]
  },
  {
   "cell_type": "code",
   "execution_count": 12,
   "id": "bec545cc-b771-4912-b7fd-d0c143dd871a",
   "metadata": {},
   "outputs": [],
   "source": [
    "evaluated_num_pairs = []"
   ]
  },
  {
   "cell_type": "code",
   "execution_count": 18,
   "id": "2b2ecd8e-9d8f-4568-a605-2f9ba6097127",
   "metadata": {
    "tags": []
   },
   "outputs": [],
   "source": [
    "for num_pair in num_pairs:\n",
    "    # display(f\"Pair ({type(num_pair)}[{type(num_pair[0])}]: {num_pair}\")\n",
    "    value = \"Safe\" if eval_num_pair(num_pair) else \"Unsafe\"\n",
    "    evaluated_pair = {\"report_safety\": value, \"numbers\": num_pair}\n",
    "    # display(evaluated_pair)\n",
    "\n",
    "    evaluated_num_pairs.append(evaluated_pair)"
   ]
  },
  {
   "cell_type": "code",
   "execution_count": 21,
   "id": "00fd0ebc-93fe-45ac-8762-506a4ca0b11f",
   "metadata": {
    "tags": []
   },
   "outputs": [
    {
     "data": {
      "text/plain": [
       "'Found [966] safe pair(s).'"
      ]
     },
     "metadata": {},
     "output_type": "display_data"
    },
    {
     "data": {
      "text/plain": [
       "'First 10 safe pairs:'"
      ]
     },
     "metadata": {},
     "output_type": "display_data"
    },
    {
     "data": {
      "text/plain": [
       "{'report_safety': 'Safe', 'numbers': [33, 34, 35, 36, 39, 42, 45, 48]}"
      ]
     },
     "metadata": {},
     "output_type": "display_data"
    },
    {
     "data": {
      "text/plain": [
       "{'report_safety': 'Safe', 'numbers': [69, 70, 72, 73, 75, 78, 80]}"
      ]
     },
     "metadata": {},
     "output_type": "display_data"
    },
    {
     "data": {
      "text/plain": [
       "{'report_safety': 'Safe', 'numbers': [53, 50, 49, 48, 47]}"
      ]
     },
     "metadata": {},
     "output_type": "display_data"
    },
    {
     "data": {
      "text/plain": [
       "{'report_safety': 'Safe', 'numbers': [10, 9, 6, 5, 4]}"
      ]
     },
     "metadata": {},
     "output_type": "display_data"
    },
    {
     "data": {
      "text/plain": [
       "{'report_safety': 'Safe', 'numbers': [70, 72, 75, 78, 80, 83, 84]}"
      ]
     },
     "metadata": {},
     "output_type": "display_data"
    },
    {
     "data": {
      "text/plain": [
       "{'report_safety': 'Safe', 'numbers': [32, 35, 37, 39, 41]}"
      ]
     },
     "metadata": {},
     "output_type": "display_data"
    },
    {
     "data": {
      "text/plain": [
       "{'report_safety': 'Safe', 'numbers': [79, 76, 73, 71, 70, 69, 66]}"
      ]
     },
     "metadata": {},
     "output_type": "display_data"
    },
    {
     "data": {
      "text/plain": [
       "{'report_safety': 'Safe', 'numbers': [72, 70, 67, 66, 64, 63, 61]}"
      ]
     },
     "metadata": {},
     "output_type": "display_data"
    },
    {
     "data": {
      "text/plain": [
       "{'report_safety': 'Safe', 'numbers': [33, 34, 36, 38, 40, 42, 45, 46]}"
      ]
     },
     "metadata": {},
     "output_type": "display_data"
    },
    {
     "data": {
      "text/plain": [
       "{'report_safety': 'Safe', 'numbers': [75, 72, 70, 67, 64]}"
      ]
     },
     "metadata": {},
     "output_type": "display_data"
    }
   ],
   "source": [
    "safe_pairs = [p for p in evaluated_num_pairs if p[\"report_safety\"] == \"Safe\"]\n",
    "display(f\"Found [{len(safe_pairs)}] safe pair(s).\")\n",
    "\n",
    "if len(safe_pairs) >= 0:\n",
    "    display(f\"First 10 safe pairs:\")\n",
    "    for p in safe_pairs[:10]:\n",
    "        display(p)"
   ]
  },
  {
   "cell_type": "code",
   "execution_count": 22,
   "id": "2bc6b863-8565-4d69-884f-4f2c5a972508",
   "metadata": {
    "tags": []
   },
   "outputs": [],
   "source": [
    "part1_solution = {\"safe_reports_count\": len(safe_pairs) or 0, \"safe_reports\": safe_pairs, \"inputs\": {\"number_pairs\": num_pairs, \"evaluated_number_pairs\": evaluated_num_pairs}}"
   ]
  },
  {
   "cell_type": "code",
   "execution_count": null,
   "id": "7f4da31f-5958-44b0-9460-1c31ff6fcadf",
   "metadata": {},
   "outputs": [],
   "source": []
  }
 ],
 "metadata": {
  "kernelspec": {
   "display_name": "Python 3 (ipykernel)",
   "language": "python",
   "name": "python3"
  },
  "language_info": {
   "codemirror_mode": {
    "name": "ipython",
    "version": 3
   },
   "file_extension": ".py",
   "mimetype": "text/x-python",
   "name": "python",
   "nbconvert_exporter": "python",
   "pygments_lexer": "ipython3",
   "version": "3.11.10"
  }
 },
 "nbformat": 4,
 "nbformat_minor": 5
}
