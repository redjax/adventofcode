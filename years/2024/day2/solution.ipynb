{
 "cells": [
  {
   "cell_type": "markdown",
   "id": "ae942780-fb0b-4216-8556-3f957eda5247",
   "metadata": {},
   "source": [
    "# Advent of Code Day 2"
   ]
  },
  {
   "cell_type": "code",
   "execution_count": 1,
   "id": "d5733c6e-d31a-4b59-a655-0874d24e96ea",
   "metadata": {},
   "outputs": [],
   "source": [
    "## Set notebook to auto reload updated modules\n",
    "from __future__ import annotations\n",
    "\n",
    "%load_ext autoreload\n",
    "%autoreload 2"
   ]
  },
  {
   "cell_type": "code",
   "execution_count": 2,
   "id": "224376b1-309c-4be1-95b0-adfc70fb8e73",
   "metadata": {},
   "outputs": [],
   "source": [
    "import json\n",
    "from pathlib import Path\n",
    "\n",
    "import pandas as pd"
   ]
  },
  {
   "cell_type": "code",
   "execution_count": 3,
   "id": "13a74b31-f7ab-4d94-ba2a-3a3518fc8350",
   "metadata": {},
   "outputs": [
    {
     "ename": "ImportError",
     "evalue": "cannot import name 'nb_utils' from partially initialized module 'aoc_mod.utils' (most likely due to a circular import) (/home/jack/git/advent-of-code/.venv/lib/python3.11/site-packages/aoc_mod/utils/__init__.py)",
     "output_type": "error",
     "traceback": [
      "\u001b[0;31m---------------------------------------------------------------------------\u001b[0m",
      "\u001b[0;31mImportError\u001b[0m                               Traceback (most recent call last)",
      "Cell \u001b[0;32mIn[3], line 1\u001b[0m\n\u001b[0;32m----> 1\u001b[0m \u001b[38;5;28;01mfrom\u001b[39;00m \u001b[38;5;21;01maoc_mod\u001b[39;00m\u001b[38;5;21;01m.\u001b[39;00m\u001b[38;5;21;01mutils\u001b[39;00m \u001b[38;5;28;01mimport\u001b[39;00m file_utils\n",
      "File \u001b[0;32m~/git/advent-of-code/.venv/lib/python3.11/site-packages/aoc_mod/utils/__init__.py:2\u001b[0m\n\u001b[1;32m      1\u001b[0m \u001b[38;5;28;01mfrom\u001b[39;00m \u001b[38;5;21;01m.\u001b[39;00m \u001b[38;5;28;01mimport\u001b[39;00m file_utils\n\u001b[0;32m----> 2\u001b[0m \u001b[38;5;28;01mfrom\u001b[39;00m \u001b[38;5;21;01m.\u001b[39;00m \u001b[38;5;28;01mimport\u001b[39;00m nb_utils\n\u001b[1;32m      3\u001b[0m \u001b[38;5;28;01mfrom\u001b[39;00m \u001b[38;5;21;01m.\u001b[39;00m \u001b[38;5;28;01mimport\u001b[39;00m pd_utils\n",
      "\u001b[0;31mImportError\u001b[0m: cannot import name 'nb_utils' from partially initialized module 'aoc_mod.utils' (most likely due to a circular import) (/home/jack/git/advent-of-code/.venv/lib/python3.11/site-packages/aoc_mod/utils/__init__.py)"
     ]
    }
   ],
   "source": [
    "from aoc_mod.utils import file_utils"
   ]
  },
  {
   "cell_type": "code",
   "execution_count": null,
   "id": "9aa93ae6-762d-48f0-b2f5-bc12ee0744a1",
   "metadata": {},
   "outputs": [],
   "source": [
    "def display_df_without_index(df: pd.DataFrame, head: int | None = None, tail: int | None = None) -> None:\n",
    "    \"\"\"Display a Pandas DataFrame in a Jupyter notebook, without the DataFrame index column.\n",
    "\n",
    "    Params:\n",
    "        df (pandas.DataFrame): The Pandas DataFrame to print without the index column.\n",
    "\n",
    "    Returns:\n",
    "        None\n",
    "    Raises:\n",
    "        ValueError: When both `head` and `tail` values are passed.\n",
    "\n",
    "    \"\"\"\n",
    "    if head and tail:\n",
    "        raise ValueError(\"Cannot pass a value for both head and tail, you must use one or the other.\")\n",
    "    try:\n",
    "        if head:\n",
    "            display(df.head(head).style.hide(axis=\"index\"))\n",
    "        else:\n",
    "            display(df.tail(tail).style.hide(axis=\"index\"))\n",
    "    except Exception as exc:\n",
    "        msg: str = f\"({type(exc)}) Error displaying Pandas DataFrame. Details: {exc}\"\n",
    "        print(f\"[ERROR] {msg}\")\n",
    "\n",
    "        raise exc"
   ]
  },
  {
   "cell_type": "code",
   "execution_count": null,
   "id": "11c499a0-9c29-47a8-97a0-354d423af8b9",
   "metadata": {},
   "outputs": [],
   "source": []
  }
 ],
 "metadata": {
  "kernelspec": {
   "display_name": "Python 3 (ipykernel)",
   "language": "python",
   "name": "python3"
  },
  "language_info": {
   "codemirror_mode": {
    "name": "ipython",
    "version": 3
   },
   "file_extension": ".py",
   "mimetype": "text/x-python",
   "name": "python",
   "nbconvert_exporter": "python",
   "pygments_lexer": "ipython3",
   "version": "3.11.10"
  }
 },
 "nbformat": 4,
 "nbformat_minor": 5
}
