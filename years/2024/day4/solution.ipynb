{
 "cells": [
  {
   "cell_type": "markdown",
   "id": "ae942780-fb0b-4216-8556-3f957eda5247",
   "metadata": {},
   "source": [
    "# Advent of Code Day 4"
   ]
  },
  {
   "cell_type": "code",
   "execution_count": 1,
   "id": "d5733c6e-d31a-4b59-a655-0874d24e96ea",
   "metadata": {},
   "outputs": [],
   "source": [
    "## Set notebook to auto reload updated modules\n",
    "from __future__ import annotations\n",
    "\n",
    "%load_ext autoreload\n",
    "%autoreload 2"
   ]
  },
  {
   "cell_type": "code",
   "execution_count": null,
   "id": "d8570d88-283d-4c0f-9824-7996aa95fe7f",
   "metadata": {
    "tags": []
   },
   "outputs": [],
   "source": [
    "from loguru import logger as log\n",
    "\n",
    "log.level(\"ERROR\")"
   ]
  },
  {
   "cell_type": "code",
   "execution_count": 3,
   "id": "224376b1-309c-4be1-95b0-adfc70fb8e73",
   "metadata": {},
   "outputs": [],
   "source": [
    "import json\n",
    "from pathlib import Path\n",
    "\n",
    "import pandas as pd"
   ]
  },
  {
   "cell_type": "code",
   "execution_count": 4,
   "id": "13a74b31-f7ab-4d94-ba2a-3a3518fc8350",
   "metadata": {},
   "outputs": [],
   "source": [
    "from aoc_mod.utils import file_utils, nb_utils"
   ]
  },
  {
   "cell_type": "code",
   "execution_count": null,
   "id": "963e7bba-b086-449e-8ecf-c2ac63f01fc1",
   "metadata": {
    "tags": []
   },
   "outputs": [],
   "source": [
    "inputs_file = Path(\"./inputs\")\n",
    "inputs_file.exists()"
   ]
  },
  {
   "cell_type": "code",
   "execution_count": null,
   "id": "5ce60733-a520-46a7-8e7f-6b795e74149e",
   "metadata": {},
   "outputs": [],
   "source": [
    "inputs = file_utils.load_inputs(\"./inputs\")\n",
    "type(inputs)"
   ]
  },
  {
   "cell_type": "code",
   "execution_count": 7,
   "id": "9e3b7d80-d016-48b8-991a-b21d6dbf9679",
   "metadata": {
    "tags": []
   },
   "outputs": [],
   "source": [
    "# num_pairs: list[list[int]] = []"
   ]
  },
  {
   "cell_type": "code",
   "execution_count": 8,
   "id": "67e18788-0f6c-4d69-ba83-b80761dc1da3",
   "metadata": {},
   "outputs": [],
   "source": [
    "# for line in inputs:\n",
    "#     nums = [int(i) for i in line.strip().split(\" \")]\n",
    "    \n",
    "#     num_pairs.append(nums)\n",
    "    \n",
    "# display(f\"Loaded [{len(num_pairs)}] number pairs from inputs file\")"
   ]
  },
  {
   "cell_type": "markdown",
   "id": "60778cf7-9001-469f-8995-378f6ae21e8d",
   "metadata": {},
   "source": [
    "## Part 1"
   ]
  },
  {
   "cell_type": "code",
   "execution_count": null,
   "id": "9ae3af10",
   "metadata": {},
   "outputs": [],
   "source": []
  },
  {
   "cell_type": "code",
   "execution_count": null,
   "id": "7c186656",
   "metadata": {},
   "outputs": [],
   "source": [
    "part1_solution = {\"result\": \"\", \"inputs\": {\"\"}}"
   ]
  },
  {
   "cell_type": "markdown",
   "id": "f0b19957-ec8e-49ec-a915-e76b0a6bd1f8",
   "metadata": {},
   "source": [
    "## Part 2"
   ]
  },
  {
   "cell_type": "code",
   "execution_count": null,
   "id": "b41ed5c1",
   "metadata": {},
   "outputs": [],
   "source": []
  },
  {
   "cell_type": "code",
   "execution_count": null,
   "id": "f88b1b88",
   "metadata": {},
   "outputs": [],
   "source": [
    "part2_solution = {\"result\": \"\", \"inputs\": {\"\"}}"
   ]
  },
  {
   "cell_type": "markdown",
   "id": "dfcb2218",
   "metadata": {},
   "source": [
    "## Results"
   ]
  },
  {
   "cell_type": "code",
   "execution_count": 9,
   "id": "79a933d9",
   "metadata": {},
   "outputs": [],
   "source": [
    "results = {\"part1\": part1_solution, \"part2\": part2_solution}"
   ]
  },
  {
   "cell_type": "code",
   "execution_count": null,
   "id": "563f6a00",
   "metadata": {},
   "outputs": [],
   "source": [
    "# file_utils.save_results(results=results)"
   ]
  },
  {
   "cell_type": "code",
   "execution_count": 10,
   "id": "38495baa",
   "metadata": {},
   "outputs": [],
   "source": [
    "# try:\n",
    "#     json_data = json.dumps(results, indent=4)\n",
    "# except Exception as exc:\n",
    "#     msg = f\"({type(exc)}) Error dumping results dict to JSON. Details: {exc}\"\n",
    "#     display(f\"[ERROR] {msg}\")"
   ]
  },
  {
   "cell_type": "code",
   "execution_count": 11,
   "id": "4133942d",
   "metadata": {},
   "outputs": [],
   "source": [
    "# with open(\"solutions.json\", \"w\") as f:\n",
    "#     f.write(json_data)"
   ]
  }
 ],
 "metadata": {
  "kernelspec": {
   "display_name": ".venv",
   "language": "python",
   "name": "python3"
  },
  "language_info": {
   "codemirror_mode": {
    "name": "ipython",
    "version": 3
   },
   "file_extension": ".py",
   "mimetype": "text/x-python",
   "name": "python",
   "nbconvert_exporter": "python",
   "pygments_lexer": "ipython3",
   "version": "3.13.0"
  }
 },
 "nbformat": 4,
 "nbformat_minor": 5
}
