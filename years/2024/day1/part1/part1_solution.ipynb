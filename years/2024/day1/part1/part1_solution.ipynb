{
 "cells": [
  {
   "cell_type": "markdown",
   "id": "b5a10722-01db-4603-8b06-91267fe911ba",
   "metadata": {},
   "source": [
    "# Advent of Code Day 1, Part 1"
   ]
  },
  {
   "cell_type": "code",
   "execution_count": 1,
   "id": "ea43f2da-d27f-4929-a9ec-07c60b9a176e",
   "metadata": {},
   "outputs": [],
   "source": [
    "## Set notebook to auto reload updated modules\n",
    "from __future__ import annotations\n",
    "\n",
    "%load_ext autoreload\n",
    "%autoreload 2"
   ]
  },
  {
   "cell_type": "code",
   "execution_count": 2,
   "id": "cafd82e9-b613-420a-a7e2-9f3ba15897c0",
   "metadata": {},
   "outputs": [],
   "source": [
    "from pathlib import Path\n",
    "\n",
    "import pandas as pd"
   ]
  },
  {
   "cell_type": "code",
   "execution_count": 3,
   "id": "ce972e87-e7a3-4844-b058-aabe8967361b",
   "metadata": {},
   "outputs": [],
   "source": [
    "def display_df_without_index(df: pd.DataFrame, head: int | None = None, tail: int | None = None) -> None:\n",
    "    \"\"\"Display a Pandas DataFrame in a Jupyter notebook, without the DataFrame index column.\n",
    "\n",
    "    Params:\n",
    "        df (pandas.DataFrame): The Pandas DataFrame to print without the index column.\n",
    "\n",
    "    Returns:\n",
    "        None\n",
    "    Raises:\n",
    "        ValueError: When both `head` and `tail` values are passed.\n",
    "\n",
    "    \"\"\"\n",
    "    if head and tail:\n",
    "        raise ValueError(\"Cannot pass a value for both head and tail, you must use one or the other.\")\n",
    "    try:\n",
    "        if head:\n",
    "            display(df.head(head).style.hide(axis=\"index\"))\n",
    "        else:\n",
    "            display(df.tail(tail).style.hide(axis=\"index\"))\n",
    "    except Exception as exc:\n",
    "        msg: str = f\"({type(exc)}) Error displaying Pandas DataFrame. Details: {exc}\"\n",
    "        print(f\"[ERROR] {msg}\")\n",
    "\n",
    "        raise exc"
   ]
  },
  {
   "cell_type": "code",
   "execution_count": 4,
   "id": "4cbdb75f-f711-4363-b223-d74f75a73eb4",
   "metadata": {},
   "outputs": [],
   "source": [
    "## Set path to text file with inputs from advent of code website\n",
    "#  Note: The inputs are 2 integers separated by 3 space characters, ex:\n",
    "#  1234567   8901234\n",
    "input_file = \"./inputs\""
   ]
  },
  {
   "cell_type": "code",
   "execution_count": 5,
   "id": "2bde75f6-863e-4365-ad88-28b173c9bdec",
   "metadata": {},
   "outputs": [
    {
     "data": {
      "text/plain": [
       "'[SUCCESS] Found input file: ./inputs. Reading from file.'"
      ]
     },
     "metadata": {},
     "output_type": "display_data"
    }
   ],
   "source": [
    "## Check for existence of the input file\n",
    "if not Path(input_file).exists():\n",
    "    raise FileNotFoundError(f\"Could not find input file: {input_file}\")\n",
    "else:\n",
    "    display(f\"[SUCCESS] Found input file: {input_file}. Reading from file.\")"
   ]
  },
  {
   "cell_type": "code",
   "execution_count": 6,
   "id": "353d91ca-0dca-4e4b-b32f-ea6c8c25de68",
   "metadata": {},
   "outputs": [
    {
     "data": {
      "text/plain": [
       "'Read [1000] lines from input file.'"
      ]
     },
     "metadata": {},
     "output_type": "display_data"
    }
   ],
   "source": [
    "## Read the input file's lines into a variable\n",
    "with open(input_file, \"r\") as f:\n",
    "    lines = f.readlines()\n",
    "\n",
    "display(f\"Read [{len(lines)}] lines from input file.\")"
   ]
  },
  {
   "cell_type": "code",
   "execution_count": 7,
   "id": "fe09a33d-12e4-4a31-85fc-9a8c93b4dbb9",
   "metadata": {},
   "outputs": [],
   "source": [
    "## Initialize 2 lists\n",
    "lst1 = []\n",
    "lst2 = []"
   ]
  },
  {
   "cell_type": "code",
   "execution_count": 8,
   "id": "8324c36d-84ca-4bee-82f2-90ecd7d51556",
   "metadata": {},
   "outputs": [
    {
     "data": {
      "text/plain": [
       "\"Split lines in './inputs' into 2 lists. List 1 has [1000] items and list 2 has [1000] items.\""
      ]
     },
     "metadata": {},
     "output_type": "display_data"
    }
   ],
   "source": [
    "## Separate lines on triple space character, create 2 lists from left & right number\n",
    "for line in lines:\n",
    "    line1, line2 = line.strip().split(\"   \")\n",
    "    lst1.append(int(line1))\n",
    "    lst2.append(int(line2))\n",
    "\n",
    "display(f\"Split lines in '{input_file}' into 2 lists. List 1 has [{len(lst1)}] items and list 2 has [{len(lst2)}] items.\")"
   ]
  },
  {
   "cell_type": "code",
   "execution_count": 9,
   "id": "83a70027-e9e2-4fc3-8631-f894e66a59ef",
   "metadata": {},
   "outputs": [],
   "source": [
    "## Sort lists so the numbers are in ascending order\n",
    "lst1.sort()\n",
    "lst2.sort()"
   ]
  },
  {
   "cell_type": "code",
   "execution_count": 10,
   "id": "6e7eb3b8-7db2-4c3a-b27a-69a1a3abdca4",
   "metadata": {},
   "outputs": [
    {
     "data": {
      "text/plain": [
       "'List 1 preview: [10219, 10238, 10262, 10295, 10379, 10508, 10567, 10653, 10686, 10807]'"
      ]
     },
     "metadata": {},
     "output_type": "display_data"
    },
    {
     "data": {
      "text/plain": [
       "'List 2 preview: [10069, 10118, 10760, 10796, 11405, 11658, 11658, 11658, 11658, 11658]'"
      ]
     },
     "metadata": {},
     "output_type": "display_data"
    }
   ],
   "source": [
    "display(f\"List 1 preview: {lst1[:10]}\")\n",
    "display(f\"List 2 preview: {lst2[:10]}\")"
   ]
  },
  {
   "cell_type": "code",
   "execution_count": 11,
   "id": "586a4992-4742-4d18-b296-c1e8c8b3cf58",
   "metadata": {},
   "outputs": [],
   "source": [
    "## Create list dataframes\n",
    "lst1_df = pd.DataFrame(lst1, columns=[\"locationID\"])\n",
    "lst2_df = pd.DataFrame(lst2, columns=[\"locationID\"])"
   ]
  },
  {
   "cell_type": "code",
   "execution_count": 12,
   "id": "dc65bf4c-cb01-4edc-b48c-e83c51020301",
   "metadata": {},
   "outputs": [
    {
     "data": {
      "text/plain": [
       "'List 1 preview:'"
      ]
     },
     "metadata": {},
     "output_type": "display_data"
    },
    {
     "data": {
      "text/html": [
       "<style type=\"text/css\">\n",
       "</style>\n",
       "<table id=\"T_ca2a2\">\n",
       "  <thead>\n",
       "    <tr>\n",
       "      <th id=\"T_ca2a2_level0_col0\" class=\"col_heading level0 col0\" >locationID</th>\n",
       "    </tr>\n",
       "  </thead>\n",
       "  <tbody>\n",
       "    <tr>\n",
       "      <td id=\"T_ca2a2_row0_col0\" class=\"data row0 col0\" >10219</td>\n",
       "    </tr>\n",
       "    <tr>\n",
       "      <td id=\"T_ca2a2_row1_col0\" class=\"data row1 col0\" >10238</td>\n",
       "    </tr>\n",
       "    <tr>\n",
       "      <td id=\"T_ca2a2_row2_col0\" class=\"data row2 col0\" >10262</td>\n",
       "    </tr>\n",
       "    <tr>\n",
       "      <td id=\"T_ca2a2_row3_col0\" class=\"data row3 col0\" >10295</td>\n",
       "    </tr>\n",
       "    <tr>\n",
       "      <td id=\"T_ca2a2_row4_col0\" class=\"data row4 col0\" >10379</td>\n",
       "    </tr>\n",
       "    <tr>\n",
       "      <td id=\"T_ca2a2_row5_col0\" class=\"data row5 col0\" >10508</td>\n",
       "    </tr>\n",
       "    <tr>\n",
       "      <td id=\"T_ca2a2_row6_col0\" class=\"data row6 col0\" >10567</td>\n",
       "    </tr>\n",
       "    <tr>\n",
       "      <td id=\"T_ca2a2_row7_col0\" class=\"data row7 col0\" >10653</td>\n",
       "    </tr>\n",
       "    <tr>\n",
       "      <td id=\"T_ca2a2_row8_col0\" class=\"data row8 col0\" >10686</td>\n",
       "    </tr>\n",
       "    <tr>\n",
       "      <td id=\"T_ca2a2_row9_col0\" class=\"data row9 col0\" >10807</td>\n",
       "    </tr>\n",
       "  </tbody>\n",
       "</table>\n"
      ],
      "text/plain": [
       "<pandas.io.formats.style.Styler at 0x7fc31dfe1e90>"
      ]
     },
     "metadata": {},
     "output_type": "display_data"
    },
    {
     "data": {
      "text/plain": [
       "'List 2 preview:'"
      ]
     },
     "metadata": {},
     "output_type": "display_data"
    },
    {
     "data": {
      "text/html": [
       "<style type=\"text/css\">\n",
       "</style>\n",
       "<table id=\"T_4a765\">\n",
       "  <thead>\n",
       "    <tr>\n",
       "      <th id=\"T_4a765_level0_col0\" class=\"col_heading level0 col0\" >locationID</th>\n",
       "    </tr>\n",
       "  </thead>\n",
       "  <tbody>\n",
       "    <tr>\n",
       "      <td id=\"T_4a765_row0_col0\" class=\"data row0 col0\" >10069</td>\n",
       "    </tr>\n",
       "    <tr>\n",
       "      <td id=\"T_4a765_row1_col0\" class=\"data row1 col0\" >10118</td>\n",
       "    </tr>\n",
       "    <tr>\n",
       "      <td id=\"T_4a765_row2_col0\" class=\"data row2 col0\" >10760</td>\n",
       "    </tr>\n",
       "    <tr>\n",
       "      <td id=\"T_4a765_row3_col0\" class=\"data row3 col0\" >10796</td>\n",
       "    </tr>\n",
       "    <tr>\n",
       "      <td id=\"T_4a765_row4_col0\" class=\"data row4 col0\" >11405</td>\n",
       "    </tr>\n",
       "    <tr>\n",
       "      <td id=\"T_4a765_row5_col0\" class=\"data row5 col0\" >11658</td>\n",
       "    </tr>\n",
       "    <tr>\n",
       "      <td id=\"T_4a765_row6_col0\" class=\"data row6 col0\" >11658</td>\n",
       "    </tr>\n",
       "    <tr>\n",
       "      <td id=\"T_4a765_row7_col0\" class=\"data row7 col0\" >11658</td>\n",
       "    </tr>\n",
       "    <tr>\n",
       "      <td id=\"T_4a765_row8_col0\" class=\"data row8 col0\" >11658</td>\n",
       "    </tr>\n",
       "    <tr>\n",
       "      <td id=\"T_4a765_row9_col0\" class=\"data row9 col0\" >11658</td>\n",
       "    </tr>\n",
       "  </tbody>\n",
       "</table>\n"
      ],
      "text/plain": [
       "<pandas.io.formats.style.Styler at 0x7fc31d3dc490>"
      ]
     },
     "metadata": {},
     "output_type": "display_data"
    }
   ],
   "source": [
    "## Display preview of list 1\n",
    "display(\"List 1 preview:\")\n",
    "display_df_without_index(df=lst1_df, head=10)\n",
    "\n",
    "## Display preview of list 2\n",
    "display(\"List 2 preview:\")\n",
    "display_df_without_index(df=lst2_df, head=10)"
   ]
  },
  {
   "cell_type": "code",
   "execution_count": 13,
   "id": "9bda6c09-0bbb-4ccc-896b-ee961c91ea80",
   "metadata": {},
   "outputs": [
    {
     "data": {
      "text/plain": [
       "locationID    int64\n",
       "dtype: object"
      ]
     },
     "execution_count": 13,
     "metadata": {},
     "output_type": "execute_result"
    }
   ],
   "source": [
    "lst1_df.dtypes"
   ]
  },
  {
   "cell_type": "code",
   "execution_count": 14,
   "id": "46220f66-e291-4f9c-a1c9-2296dddd257e",
   "metadata": {},
   "outputs": [
    {
     "data": {
      "text/plain": [
       "locationID    int64\n",
       "dtype: object"
      ]
     },
     "execution_count": 14,
     "metadata": {},
     "output_type": "execute_result"
    }
   ],
   "source": [
    "lst2_df.dtypes"
   ]
  },
  {
   "cell_type": "code",
   "execution_count": 15,
   "id": "f18a1d9c-dc1e-4128-924c-325217f04732",
   "metadata": {},
   "outputs": [
    {
     "data": {
      "text/plain": [
       "'Distances between points preview:'"
      ]
     },
     "metadata": {},
     "output_type": "display_data"
    },
    {
     "data": {
      "text/plain": [
       "[2, 15, 19, 23, 29, 32, 38, 38, 45, 46]"
      ]
     },
     "metadata": {},
     "output_type": "display_data"
    }
   ],
   "source": [
    "## Get list of distances between values in each dataframe\n",
    "distances = (lst1_df['locationID'] - lst2_df['locationID']).abs().tolist()\n",
    "distances.sort()\n",
    "## Drop 0 values from list\n",
    "distances = [i for i in distances if i > 0]\n",
    "\n",
    "display(\"Distances between points preview:\")\n",
    "display(distances[:10])"
   ]
  },
  {
   "cell_type": "code",
   "execution_count": 16,
   "id": "71f304f9-eef7-46be-9214-55861a7fec89",
   "metadata": {},
   "outputs": [
    {
     "data": {
      "text/plain": [
       "'The total distance between all list items is: 1941353'"
      ]
     },
     "metadata": {},
     "output_type": "display_data"
    }
   ],
   "source": [
    "## Get total of all distance values\n",
    "total_distance = sum(distances)\n",
    "display(f\"The total distance between all list items is: {total_distance}\")"
   ]
  }
 ],
 "metadata": {
  "kernelspec": {
   "display_name": "Python 3 (ipykernel)",
   "language": "python",
   "name": "python3"
  },
  "language_info": {
   "codemirror_mode": {
    "name": "ipython",
    "version": 3
   },
   "file_extension": ".py",
   "mimetype": "text/x-python",
   "name": "python",
   "nbconvert_exporter": "python",
   "pygments_lexer": "ipython3",
   "version": "3.11.10"
  }
 },
 "nbformat": 4,
 "nbformat_minor": 5
}
