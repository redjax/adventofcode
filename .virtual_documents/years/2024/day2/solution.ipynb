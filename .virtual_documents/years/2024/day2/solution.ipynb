## Set notebook to auto reload updated modules
from __future__ import annotations

get_ipython().run_line_magic("load_ext", " autoreload")
get_ipython().run_line_magic("autoreload", " 2")


import json
from pathlib import Path

import pandas as pd


from aoc_mod.utils import file_utils, nb_utils


df = pd.DataFrame([{"name": "Test", "age": 23}, {"name": "Test2", "age": 35}])
df


nb_utils.display_df_without_index(df=df)



